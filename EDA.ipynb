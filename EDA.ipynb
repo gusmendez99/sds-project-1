{
 "cells": [
  {
   "cell_type": "markdown",
   "id": "d528d7ee-f3d4-4118-905c-29b090e37642",
   "metadata": {},
   "source": [
    "# Security DS - Proyecto 1\n",
    "\n",
    "Roberto Figueroa - 18306\n",
    "\n",
    "Gustavo Méndez - 18500"
   ]
  },
  {
   "cell_type": "code",
   "execution_count": null,
   "id": "b1f3360f-ec0a-4f82-b3b0-a701cee8638a",
   "metadata": {},
   "outputs": [],
   "source": []
  }
 ],
 "metadata": {
  "kernelspec": {
   "display_name": "Python 3",
   "language": "python",
   "name": "python3"
  },
  "language_info": {
   "codemirror_mode": {
    "name": "ipython",
    "version": 3
   },
   "file_extension": ".py",
   "mimetype": "text/x-python",
   "name": "python",
   "nbconvert_exporter": "python",
   "pygments_lexer": "ipython3",
   "version": "3.8.8"
  }
 },
 "nbformat": 4,
 "nbformat_minor": 5
}
