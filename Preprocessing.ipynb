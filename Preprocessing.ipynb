{
 "cells": [
  {
   "cell_type": "markdown",
   "id": "d9c85c8c-64ee-4953-8c1b-eccfdbeceb88",
   "metadata": {},
   "source": [
    "# Proprocessing\n",
    "\n",
    "**Security DS - Proyecto 1**\n",
    "\n",
    "Roberto Figueroa - 18306\n",
    "\n",
    "Gustavo Méndez - 18500"
   ]
  },
  {
   "cell_type": "markdown",
   "id": "17327c2e-f39b-4586-a006-909628228062",
   "metadata": {},
   "source": [
    "## Preprocessing (12M+ records dataset)"
   ]
  },
  {
   "cell_type": "code",
   "execution_count": 1,
   "id": "c2c82b12-0e91-4119-be72-ddf18e098a23",
   "metadata": {},
   "outputs": [],
   "source": [
    "import pandas as pd\n",
    "import numpy as np\n",
    "import matplotlib.pyplot as plt\n",
    "import seaborn as sns\n",
    "from utils import reduce_memory_usage\n",
    "\n",
    "%matplotlib inline\n",
    "pd.set_option(\"display.max_columns\", None)"
   ]
  },
  {
   "cell_type": "markdown",
   "id": "3fac4981-f3be-4958-bb6d-c5c191736c3d",
   "metadata": {},
   "source": [
    "**Load dataset and reduce memory usage**"
   ]
  },
  {
   "cell_type": "code",
   "execution_count": 2,
   "id": "f97b8510-809f-4b95-a9f1-ecf15c5532f9",
   "metadata": {},
   "outputs": [],
   "source": [
    "# Load by chunks, due to dataset size (~4 GB if unzipped)\n",
    "chunk_samples = []\n",
    "CHUNK_SIZE = 10 ** 6\n",
    "\n",
    "for chunk in pd.read_csv('./datasets/final_sample.csv.zip', index_col=[0], chunksize=CHUNK_SIZE):\n",
    "    reduced_chunk = reduce_memory_usage(chunk, verbose=False)\n",
    "    chunk_samples.append(reduced_chunk)\n",
    "    \n",
    "df = pd.concat(chunk_samples, ignore_index=True)\n",
    "del chunk_samples"
   ]
  },
  {
   "cell_type": "markdown",
   "id": "60d6168f-d072-4cfe-93b3-c37073f3f20c",
   "metadata": {},
   "source": [
    "### EDA Recap\n",
    "\n",
    "We have generated a 12M+ records datasets, with 4 different labels. The current label distribution is shown below: "
   ]
  },
  {
   "cell_type": "code",
   "execution_count": 3,
   "id": "e00e7832-a179-41c6-bafd-51615a781c98",
   "metadata": {},
   "outputs": [
    {
     "data": {
      "image/png": "[encoded data removed]",
      "text/plain": [
       "<Figure size 432x288 with 1 Axes>"
      ]
     },
     "metadata": {
      "needs_background": "light"
     },
     "output_type": "display_data"
    }
   ],
   "source": [
    "def without_hue(ax, feature):\n",
    "    total = len(feature)\n",
    "    for p in ax.patches:\n",
    "        percentage = '{:.1f}%'.format(100 * p.get_height()/total)\n",
    "        x = p.get_x() + p.get_width() / 2 - 0.05\n",
    "        y = p.get_y() + p.get_height()\n",
    "        ax.annotate(percentage, (x, y), size = 12)\n",
    "\n",
    "ax = sns.countplot(x=\"LABEL\", data=df)\n",
    "ax.set_xticklabels(ax.get_xticklabels(),rotation = 45)\n",
    "without_hue(ax, df['LABEL'])"
   ]
  },
  {
   "cell_type": "markdown",
   "id": "d027768d-4142-4481-884c-bd7239bac8de",
   "metadata": {},
   "source": [
    "Clearly, we need to focus on dealing with label imbalance, but not before preprocessing the current data."
   ]
  },
  {
   "cell_type": "markdown",
   "id": "5c6bf694-8d74-47e5-8ab0-04a3dd48a216",
   "metadata": {},
   "source": [
    "### Preprocess summary\n",
    "\n",
    "**Columns to remove**\n",
    "- Mercury: and why?\n",
    "- Venus: and why?\n",
    "- Earth (Orbit/Moon): and why?\n",
    "- Mars: and why?\n",
    "- Jupiter: and why?\n",
    "\n",
    "\n",
    "**Columns to preprocess**\n",
    "- [x] Mercury\n",
    "- [x] Venus\n",
    "- [x] Earth\n",
    "- [x] Mars\n",
    "- [x] Jupiter"
   ]
  },
  {
   "cell_type": "code",
   "execution_count": null,
   "id": "c8e91692-b395-470f-8c1d-390d75f1791a",
   "metadata": {},
   "outputs": [],
   "source": [
    "# Preprocess all selected columns here!"
   ]
  },
  {
   "cell_type": "markdown",
   "id": "d3db43ef-0d99-40aa-8650-3af1132a6335",
   "metadata": {},
   "source": [
    "### Working on data balancing"
   ]
  },
  {
   "cell_type": "code",
   "execution_count": 5,
   "id": "0087cb4d-2bd6-4452-8475-c4800438296b",
   "metadata": {},
   "outputs": [],
   "source": [
    "# Balance work: oversampling, SMOTE, etc..."
   ]
  }
 ],
 "metadata": {
  "kernelspec": {
   "display_name": "Python 3",
   "language": "python",
   "name": "python3"
  },
  "language_info": {
   "codemirror_mode": {
    "name": "ipython",
    "version": 3
   },
   "file_extension": ".py",
   "mimetype": "text/x-python",
   "name": "python",
   "nbconvert_exporter": "python",
   "pygments_lexer": "ipython3",
   "version": "3.8.8"
  }
 },
 "nbformat": 4,
 "nbformat_minor": 5
}
