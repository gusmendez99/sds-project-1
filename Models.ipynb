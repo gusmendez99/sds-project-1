{
 "cells": [
  {
   "cell_type": "markdown",
   "id": "887ae55a",
   "metadata": {},
   "source": [
    "# Model Implementation\n",
    "\n",
    "**Security DS - Proyecto 1**\n",
    "\n",
    "Roberto Figueroa - 18306\n",
    "\n",
    "Gustavo Méndez - 18500"
   ]
  },
  {
   "cell_type": "code",
   "execution_count": 1,
   "id": "b88ba99c",
   "metadata": {},
   "outputs": [],
   "source": [
    "import pandas as pd\n",
    "import numpy as np\n",
    "import matplotlib.pyplot as plt\n",
    "import seaborn as sns\n",
    "from utils import reduce_memory_usage\n",
    "from sklearn.utils import resample\n",
    "from sklearn.preprocessing import StandardScaler\n",
    "from sklearn.ensemble import RandomForestClassifier\n",
    "from sklearn.tree import DecisionTreeClassifier\n",
    "\n",
    "\n",
    "from sklearn import metrics, model_selection, tree\n",
    "from sklearn.model_selection import train_test_split\n",
    "from sklearn.ensemble import RandomForestClassifier\n",
    "from sklearn.metrics import confusion_matrix, precision_score, recall_score, f1_score, plot_confusion_matrix, accuracy_score, roc_auc_score, roc_curve, auc\n",
    "from sklearn.preprocessing import label_binarize\n",
    "from sklearn.compose import ColumnTransformer\n",
    "from itertools import cycle\n",
    "\n",
    "\n",
    "%matplotlib inline\n",
    "pd.set_option(\"display.max_columns\", None)"
   ]
  },
  {
   "cell_type": "code",
   "execution_count": 2,
   "id": "22f1f4e9",
   "metadata": {},
   "outputs": [],
   "source": [
    "chunk_samples = []\n",
    "CHUNK_SIZE = 10 ** 6\n",
    "\n",
    "for chunk in pd.read_csv('./datasets/preprocessed_dataset.csv.zip', index_col=[0], chunksize=CHUNK_SIZE):\n",
    "    reduced_chunk = reduce_memory_usage(chunk, verbose=False)\n",
    "    chunk_samples.append(reduced_chunk)\n",
    "    \n",
    "df = pd.concat(chunk_samples, ignore_index=True)\n",
    "del chunk_samples"
   ]
  },
  {
   "cell_type": "markdown",
   "id": "2c1b72c8",
   "metadata": {},
   "source": [
    "This is how our preprocessed dataset views like"
   ]
  },
  {
   "cell_type": "code",
   "execution_count": 3,
   "id": "200adc29",
   "metadata": {},
   "outputs": [
    {
     "data": {
      "text/html": [
       "<div>\n",
       "<style scoped>\n",
       "    .dataframe tbody tr th:only-of-type {\n",
       "        vertical-align: middle;\n",
       "    }\n",
       "\n",
       "    .dataframe tbody tr th {\n",
       "        vertical-align: top;\n",
       "    }\n",
       "\n",
       "    .dataframe thead th {\n",
       "        text-align: right;\n",
       "    }\n",
       "</style>\n",
       "<table border=\"1\" class=\"dataframe\">\n",
       "  <thead>\n",
       "    <tr style=\"text-align: right;\">\n",
       "      <th></th>\n",
       "      <th>FIRST_SWITCHED</th>\n",
       "      <th>FLOW_DURATION_MICROSECONDS</th>\n",
       "      <th>L4_DST_PORT</th>\n",
       "      <th>L4_SRC_PORT</th>\n",
       "      <th>LAST_SWITCHED</th>\n",
       "      <th>TCP_WIN_MAX_IN</th>\n",
       "      <th>TCP_WIN_MAX_OUT</th>\n",
       "      <th>TCP_WIN_MIN_IN</th>\n",
       "      <th>TCP_WIN_MIN_OUT</th>\n",
       "      <th>TCP_WIN_MSS_IN</th>\n",
       "      <th>TCP_WIN_SCALE_OUT</th>\n",
       "      <th>TCP_WIN_SCALE_IN</th>\n",
       "      <th>TOTAL_FLOWS_EXP</th>\n",
       "      <th>tcp</th>\n",
       "      <th>udp</th>\n",
       "      <th>SRC_PKT_PRECEDENCE</th>\n",
       "      <th>DST_PKT_PRECEDENCE</th>\n",
       "      <th>URG</th>\n",
       "      <th>ACK</th>\n",
       "      <th>PSH</th>\n",
       "      <th>RST</th>\n",
       "      <th>SYN</th>\n",
       "      <th>FIN</th>\n",
       "      <th>LABEL</th>\n",
       "    </tr>\n",
       "  </thead>\n",
       "  <tbody>\n",
       "    <tr>\n",
       "      <th>0</th>\n",
       "      <td>1618194298</td>\n",
       "      <td>-0.821289</td>\n",
       "      <td>-0.116516</td>\n",
       "      <td>0.700684</td>\n",
       "      <td>1618194298</td>\n",
       "      <td>-0.800293</td>\n",
       "      <td>-0.744141</td>\n",
       "      <td>-0.804688</td>\n",
       "      <td>-0.743652</td>\n",
       "      <td>-1.385742</td>\n",
       "      <td>-0.768555</td>\n",
       "      <td>-0.816895</td>\n",
       "      <td>0.512207</td>\n",
       "      <td>1</td>\n",
       "      <td>0</td>\n",
       "      <td>5</td>\n",
       "      <td>5</td>\n",
       "      <td>0</td>\n",
       "      <td>0</td>\n",
       "      <td>0</td>\n",
       "      <td>1</td>\n",
       "      <td>1</td>\n",
       "      <td>0</td>\n",
       "      <td>2</td>\n",
       "    </tr>\n",
       "    <tr>\n",
       "      <th>1</th>\n",
       "      <td>1618185270</td>\n",
       "      <td>-0.822754</td>\n",
       "      <td>-0.014404</td>\n",
       "      <td>0.324707</td>\n",
       "      <td>1618185270</td>\n",
       "      <td>-0.838867</td>\n",
       "      <td>-0.744141</td>\n",
       "      <td>-0.837402</td>\n",
       "      <td>-0.743652</td>\n",
       "      <td>-1.385742</td>\n",
       "      <td>-0.768555</td>\n",
       "      <td>-0.816895</td>\n",
       "      <td>0.503906</td>\n",
       "      <td>0</td>\n",
       "      <td>1</td>\n",
       "      <td>0</td>\n",
       "      <td>0</td>\n",
       "      <td>0</td>\n",
       "      <td>1</td>\n",
       "      <td>0</td>\n",
       "      <td>0</td>\n",
       "      <td>0</td>\n",
       "      <td>1</td>\n",
       "      <td>2</td>\n",
       "    </tr>\n",
       "    <tr>\n",
       "      <th>2</th>\n",
       "      <td>1618225083</td>\n",
       "      <td>-0.822754</td>\n",
       "      <td>-0.570801</td>\n",
       "      <td>-1.906250</td>\n",
       "      <td>1618225083</td>\n",
       "      <td>-0.838867</td>\n",
       "      <td>-0.744141</td>\n",
       "      <td>-0.837402</td>\n",
       "      <td>-0.743652</td>\n",
       "      <td>-1.385742</td>\n",
       "      <td>-0.768555</td>\n",
       "      <td>-0.816895</td>\n",
       "      <td>0.582031</td>\n",
       "      <td>0</td>\n",
       "      <td>1</td>\n",
       "      <td>0</td>\n",
       "      <td>0</td>\n",
       "      <td>0</td>\n",
       "      <td>1</td>\n",
       "      <td>0</td>\n",
       "      <td>0</td>\n",
       "      <td>0</td>\n",
       "      <td>1</td>\n",
       "      <td>2</td>\n",
       "    </tr>\n",
       "    <tr>\n",
       "      <th>3</th>\n",
       "      <td>1618219151</td>\n",
       "      <td>-0.817871</td>\n",
       "      <td>-0.309570</td>\n",
       "      <td>0.797363</td>\n",
       "      <td>1618219152</td>\n",
       "      <td>-0.800293</td>\n",
       "      <td>-0.744141</td>\n",
       "      <td>-0.804688</td>\n",
       "      <td>-0.743652</td>\n",
       "      <td>-1.385742</td>\n",
       "      <td>-0.768555</td>\n",
       "      <td>-0.816895</td>\n",
       "      <td>0.559082</td>\n",
       "      <td>1</td>\n",
       "      <td>0</td>\n",
       "      <td>1</td>\n",
       "      <td>0</td>\n",
       "      <td>0</td>\n",
       "      <td>0</td>\n",
       "      <td>0</td>\n",
       "      <td>1</td>\n",
       "      <td>1</td>\n",
       "      <td>0</td>\n",
       "      <td>2</td>\n",
       "    </tr>\n",
       "    <tr>\n",
       "      <th>4</th>\n",
       "      <td>1618197175</td>\n",
       "      <td>-0.811523</td>\n",
       "      <td>-0.576660</td>\n",
       "      <td>-2.744141</td>\n",
       "      <td>1618197176</td>\n",
       "      <td>-0.838867</td>\n",
       "      <td>-0.744141</td>\n",
       "      <td>-0.837402</td>\n",
       "      <td>-0.743652</td>\n",
       "      <td>-1.385742</td>\n",
       "      <td>-0.768555</td>\n",
       "      <td>-0.816895</td>\n",
       "      <td>0.515137</td>\n",
       "      <td>0</td>\n",
       "      <td>0</td>\n",
       "      <td>6</td>\n",
       "      <td>0</td>\n",
       "      <td>0</td>\n",
       "      <td>0</td>\n",
       "      <td>0</td>\n",
       "      <td>0</td>\n",
       "      <td>0</td>\n",
       "      <td>1</td>\n",
       "      <td>2</td>\n",
       "    </tr>\n",
       "  </tbody>\n",
       "</table>\n",
       "</div>"
      ],
      "text/plain": [
       "   FIRST_SWITCHED  FLOW_DURATION_MICROSECONDS  L4_DST_PORT  L4_SRC_PORT  \\\n",
       "0      1618194298                   -0.821289    -0.116516     0.700684   \n",
       "1      1618185270                   -0.822754    -0.014404     0.324707   \n",
       "2      1618225083                   -0.822754    -0.570801    -1.906250   \n",
       "3      1618219151                   -0.817871    -0.309570     0.797363   \n",
       "4      1618197175                   -0.811523    -0.576660    -2.744141   \n",
       "\n",
       "   LAST_SWITCHED  TCP_WIN_MAX_IN  TCP_WIN_MAX_OUT  TCP_WIN_MIN_IN  \\\n",
       "0     1618194298       -0.800293        -0.744141       -0.804688   \n",
       "1     1618185270       -0.838867        -0.744141       -0.837402   \n",
       "2     1618225083       -0.838867        -0.744141       -0.837402   \n",
       "3     1618219152       -0.800293        -0.744141       -0.804688   \n",
       "4     1618197176       -0.838867        -0.744141       -0.837402   \n",
       "\n",
       "   TCP_WIN_MIN_OUT  TCP_WIN_MSS_IN  TCP_WIN_SCALE_OUT  TCP_WIN_SCALE_IN  \\\n",
       "0        -0.743652       -1.385742          -0.768555         -0.816895   \n",
       "1        -0.743652       -1.385742          -0.768555         -0.816895   \n",
       "2        -0.743652       -1.385742          -0.768555         -0.816895   \n",
       "3        -0.743652       -1.385742          -0.768555         -0.816895   \n",
       "4        -0.743652       -1.385742          -0.768555         -0.816895   \n",
       "\n",
       "   TOTAL_FLOWS_EXP  tcp  udp  SRC_PKT_PRECEDENCE  DST_PKT_PRECEDENCE  URG  \\\n",
       "0         0.512207    1    0                   5                   5    0   \n",
       "1         0.503906    0    1                   0                   0    0   \n",
       "2         0.582031    0    1                   0                   0    0   \n",
       "3         0.559082    1    0                   1                   0    0   \n",
       "4         0.515137    0    0                   6                   0    0   \n",
       "\n",
       "   ACK  PSH  RST  SYN  FIN  LABEL  \n",
       "0    0    0    1    1    0      2  \n",
       "1    1    0    0    0    1      2  \n",
       "2    1    0    0    0    1      2  \n",
       "3    0    0    1    1    0      2  \n",
       "4    0    0    0    0    1      2  "
      ]
     },
     "execution_count": 3,
     "metadata": {},
     "output_type": "execute_result"
    }
   ],
   "source": [
    "df.head()"
   ]
  },
  {
   "cell_type": "code",
   "execution_count": 4,
   "id": "f5bfbb93",
   "metadata": {},
   "outputs": [
    {
     "data": {
      "text/plain": [
       "(9107788, 24)"
      ]
     },
     "execution_count": 4,
     "metadata": {},
     "output_type": "execute_result"
    }
   ],
   "source": [
    "df.shape"
   ]
  },
  {
   "cell_type": "markdown",
   "id": "fda5008b",
   "metadata": {},
   "source": [
    "### Split data"
   ]
  },
  {
   "cell_type": "code",
   "execution_count": 5,
   "id": "ba7d2dbc",
   "metadata": {},
   "outputs": [],
   "source": [
    "y = df['LABEL']\n",
    "X = df.drop('LABEL', axis=1, inplace=False)\n",
    "\n",
    "target_names = ['DDos RUDY', 'DDos Slowloris', 'Normal Flow', 'SYN-Scan']"
   ]
  },
  {
   "cell_type": "code",
   "execution_count": 6,
   "id": "cb82b904",
   "metadata": {},
   "outputs": [],
   "source": [
    "X_train, X_test_total, y_train, y_test_total = train_test_split(X, y, train_size=0.55, random_state=42)"
   ]
  },
  {
   "cell_type": "code",
   "execution_count": 7,
   "id": "100d4b2a",
   "metadata": {},
   "outputs": [],
   "source": [
    "X_test, X_val, y_test, y_val = train_test_split(X_test_total, y_test_total, test_size=0.33, random_state=97)"
   ]
  },
  {
   "cell_type": "code",
   "execution_count": 8,
   "id": "2c096138",
   "metadata": {},
   "outputs": [
    {
     "data": {
      "text/html": [
       "<div>\n",
       "<style scoped>\n",
       "    .dataframe tbody tr th:only-of-type {\n",
       "        vertical-align: middle;\n",
       "    }\n",
       "\n",
       "    .dataframe tbody tr th {\n",
       "        vertical-align: top;\n",
       "    }\n",
       "\n",
       "    .dataframe thead th {\n",
       "        text-align: right;\n",
       "    }\n",
       "</style>\n",
       "<table border=\"1\" class=\"dataframe\">\n",
       "  <thead>\n",
       "    <tr style=\"text-align: right;\">\n",
       "      <th></th>\n",
       "      <th>FIRST_SWITCHED</th>\n",
       "      <th>FLOW_DURATION_MICROSECONDS</th>\n",
       "      <th>L4_DST_PORT</th>\n",
       "      <th>L4_SRC_PORT</th>\n",
       "      <th>LAST_SWITCHED</th>\n",
       "      <th>TCP_WIN_MAX_IN</th>\n",
       "      <th>TCP_WIN_MAX_OUT</th>\n",
       "      <th>TCP_WIN_MIN_IN</th>\n",
       "      <th>TCP_WIN_MIN_OUT</th>\n",
       "      <th>TCP_WIN_MSS_IN</th>\n",
       "      <th>TCP_WIN_SCALE_OUT</th>\n",
       "      <th>TCP_WIN_SCALE_IN</th>\n",
       "      <th>TOTAL_FLOWS_EXP</th>\n",
       "      <th>tcp</th>\n",
       "      <th>udp</th>\n",
       "      <th>SRC_PKT_PRECEDENCE</th>\n",
       "      <th>DST_PKT_PRECEDENCE</th>\n",
       "      <th>URG</th>\n",
       "      <th>ACK</th>\n",
       "      <th>PSH</th>\n",
       "      <th>RST</th>\n",
       "      <th>SYN</th>\n",
       "      <th>FIN</th>\n",
       "    </tr>\n",
       "  </thead>\n",
       "  <tbody>\n",
       "    <tr>\n",
       "      <th>8191873</th>\n",
       "      <td>1618229523</td>\n",
       "      <td>-0.822266</td>\n",
       "      <td>-0.572266</td>\n",
       "      <td>0.762207</td>\n",
       "      <td>1618229523</td>\n",
       "      <td>1.240234</td>\n",
       "      <td>1.141602</td>\n",
       "      <td>1.241211</td>\n",
       "      <td>1.143555</td>\n",
       "      <td>0.684570</td>\n",
       "      <td>1.305664</td>\n",
       "      <td>1.201172</td>\n",
       "      <td>0.622559</td>\n",
       "      <td>1</td>\n",
       "      <td>0</td>\n",
       "      <td>0</td>\n",
       "      <td>0</td>\n",
       "      <td>0</td>\n",
       "      <td>0</td>\n",
       "      <td>0</td>\n",
       "      <td>1</td>\n",
       "      <td>1</td>\n",
       "      <td>0</td>\n",
       "    </tr>\n",
       "    <tr>\n",
       "      <th>8642854</th>\n",
       "      <td>1618231372</td>\n",
       "      <td>1.777344</td>\n",
       "      <td>-0.572266</td>\n",
       "      <td>0.628418</td>\n",
       "      <td>1618231484</td>\n",
       "      <td>1.240234</td>\n",
       "      <td>1.141602</td>\n",
       "      <td>1.241211</td>\n",
       "      <td>1.143555</td>\n",
       "      <td>0.684570</td>\n",
       "      <td>1.305664</td>\n",
       "      <td>1.201172</td>\n",
       "      <td>0.642090</td>\n",
       "      <td>1</td>\n",
       "      <td>0</td>\n",
       "      <td>0</td>\n",
       "      <td>0</td>\n",
       "      <td>0</td>\n",
       "      <td>0</td>\n",
       "      <td>0</td>\n",
       "      <td>1</td>\n",
       "      <td>1</td>\n",
       "      <td>0</td>\n",
       "    </tr>\n",
       "    <tr>\n",
       "      <th>1057646</th>\n",
       "      <td>1618257844</td>\n",
       "      <td>-0.822754</td>\n",
       "      <td>1.940430</td>\n",
       "      <td>0.458252</td>\n",
       "      <td>1618257844</td>\n",
       "      <td>1.220703</td>\n",
       "      <td>-0.744141</td>\n",
       "      <td>1.221680</td>\n",
       "      <td>-0.743652</td>\n",
       "      <td>0.758301</td>\n",
       "      <td>-0.768555</td>\n",
       "      <td>1.489258</td>\n",
       "      <td>0.731934</td>\n",
       "      <td>1</td>\n",
       "      <td>0</td>\n",
       "      <td>1</td>\n",
       "      <td>0</td>\n",
       "      <td>0</td>\n",
       "      <td>0</td>\n",
       "      <td>0</td>\n",
       "      <td>1</td>\n",
       "      <td>1</td>\n",
       "      <td>0</td>\n",
       "    </tr>\n",
       "    <tr>\n",
       "      <th>5073047</th>\n",
       "      <td>1616663801</td>\n",
       "      <td>-0.822754</td>\n",
       "      <td>-0.073792</td>\n",
       "      <td>0.407715</td>\n",
       "      <td>1616663801</td>\n",
       "      <td>-0.806152</td>\n",
       "      <td>-0.744141</td>\n",
       "      <td>-0.804688</td>\n",
       "      <td>-0.743652</td>\n",
       "      <td>0.758301</td>\n",
       "      <td>-0.768555</td>\n",
       "      <td>-0.816895</td>\n",
       "      <td>-1.584961</td>\n",
       "      <td>1</td>\n",
       "      <td>0</td>\n",
       "      <td>0</td>\n",
       "      <td>0</td>\n",
       "      <td>0</td>\n",
       "      <td>0</td>\n",
       "      <td>0</td>\n",
       "      <td>1</td>\n",
       "      <td>1</td>\n",
       "      <td>0</td>\n",
       "    </tr>\n",
       "    <tr>\n",
       "      <th>7887439</th>\n",
       "      <td>1618228180</td>\n",
       "      <td>1.737305</td>\n",
       "      <td>-0.572266</td>\n",
       "      <td>-0.379883</td>\n",
       "      <td>1618228290</td>\n",
       "      <td>-0.822754</td>\n",
       "      <td>-0.736328</td>\n",
       "      <td>-0.821289</td>\n",
       "      <td>-0.735840</td>\n",
       "      <td>-1.385742</td>\n",
       "      <td>-0.768555</td>\n",
       "      <td>-0.816895</td>\n",
       "      <td>0.610840</td>\n",
       "      <td>1</td>\n",
       "      <td>0</td>\n",
       "      <td>0</td>\n",
       "      <td>0</td>\n",
       "      <td>0</td>\n",
       "      <td>0</td>\n",
       "      <td>0</td>\n",
       "      <td>1</td>\n",
       "      <td>1</td>\n",
       "      <td>0</td>\n",
       "    </tr>\n",
       "  </tbody>\n",
       "</table>\n",
       "</div>"
      ],
      "text/plain": [
       "         FIRST_SWITCHED  FLOW_DURATION_MICROSECONDS  L4_DST_PORT  L4_SRC_PORT  \\\n",
       "8191873      1618229523                   -0.822266    -0.572266     0.762207   \n",
       "8642854      1618231372                    1.777344    -0.572266     0.628418   \n",
       "1057646      1618257844                   -0.822754     1.940430     0.458252   \n",
       "5073047      1616663801                   -0.822754    -0.073792     0.407715   \n",
       "7887439      1618228180                    1.737305    -0.572266    -0.379883   \n",
       "\n",
       "         LAST_SWITCHED  TCP_WIN_MAX_IN  TCP_WIN_MAX_OUT  TCP_WIN_MIN_IN  \\\n",
       "8191873     1618229523        1.240234         1.141602        1.241211   \n",
       "8642854     1618231484        1.240234         1.141602        1.241211   \n",
       "1057646     1618257844        1.220703        -0.744141        1.221680   \n",
       "5073047     1616663801       -0.806152        -0.744141       -0.804688   \n",
       "7887439     1618228290       -0.822754        -0.736328       -0.821289   \n",
       "\n",
       "         TCP_WIN_MIN_OUT  TCP_WIN_MSS_IN  TCP_WIN_SCALE_OUT  TCP_WIN_SCALE_IN  \\\n",
       "8191873         1.143555        0.684570           1.305664          1.201172   \n",
       "8642854         1.143555        0.684570           1.305664          1.201172   \n",
       "1057646        -0.743652        0.758301          -0.768555          1.489258   \n",
       "5073047        -0.743652        0.758301          -0.768555         -0.816895   \n",
       "7887439        -0.735840       -1.385742          -0.768555         -0.816895   \n",
       "\n",
       "         TOTAL_FLOWS_EXP  tcp  udp  SRC_PKT_PRECEDENCE  DST_PKT_PRECEDENCE  \\\n",
       "8191873         0.622559    1    0                   0                   0   \n",
       "8642854         0.642090    1    0                   0                   0   \n",
       "1057646         0.731934    1    0                   1                   0   \n",
       "5073047        -1.584961    1    0                   0                   0   \n",
       "7887439         0.610840    1    0                   0                   0   \n",
       "\n",
       "         URG  ACK  PSH  RST  SYN  FIN  \n",
       "8191873    0    0    0    1    1    0  \n",
       "8642854    0    0    0    1    1    0  \n",
       "1057646    0    0    0    1    1    0  \n",
       "5073047    0    0    0    1    1    0  \n",
       "7887439    0    0    0    1    1    0  "
      ]
     },
     "execution_count": 8,
     "metadata": {},
     "output_type": "execute_result"
    }
   ],
   "source": [
    "X_train.head()"
   ]
  },
  {
   "cell_type": "code",
   "execution_count": 9,
   "id": "6c09422f",
   "metadata": {},
   "outputs": [
    {
     "data": {
      "text/plain": [
       "8191873    0\n",
       "8642854    0\n",
       "1057646    2\n",
       "5073047    3\n",
       "7887439    0\n",
       "Name: LABEL, dtype: int8"
      ]
     },
     "execution_count": 9,
     "metadata": {},
     "output_type": "execute_result"
    }
   ],
   "source": [
    "y_train.head()"
   ]
  },
  {
   "cell_type": "code",
   "execution_count": 10,
   "id": "ed99b941",
   "metadata": {},
   "outputs": [
    {
     "name": "stdout",
     "output_type": "stream",
     "text": [
      "Total observaciones:  9107788\n",
      "Observaciones entrenamiento:  5009283\n",
      "Observaciones de validacion:  1352507\n",
      "Observaciones de pruebas:  2745998\n"
     ]
    }
   ],
   "source": [
    "print(\"Total observaciones: \", len(X))\n",
    "print(\"Observaciones entrenamiento: \", len(X_train))\n",
    "print(\"Observaciones de validacion: \", len(X_val))\n",
    "print(\"Observaciones de pruebas: \", len(X_test))"
   ]
  },
  {
   "cell_type": "markdown",
   "id": "e442f3f2-f050-4428-8c37-be1f8bcba7f8",
   "metadata": {},
   "source": [
    "## Random Forest Classifier"
   ]
  },
  {
   "cell_type": "markdown",
   "id": "e6e2787b",
   "metadata": {},
   "source": [
    "### Create model and train model"
   ]
  },
  {
   "cell_type": "code",
   "execution_count": 11,
   "id": "a3da2d39",
   "metadata": {},
   "outputs": [
    {
     "data": {
      "text/plain": [
       "RandomForestClassifier(n_jobs=4, random_state=42)"
      ]
     },
     "execution_count": 11,
     "metadata": {},
     "output_type": "execute_result"
    }
   ],
   "source": [
    "model_RF = RandomForestClassifier(n_estimators = 100, random_state = 42, n_jobs=4)\n",
    "model_RF.fit(X_train, y_train)"
   ]
  },
  {
   "cell_type": "markdown",
   "id": "9ae7c1ff",
   "metadata": {},
   "source": [
    "### Predict with validation data"
   ]
  },
  {
   "cell_type": "code",
   "execution_count": 12,
   "id": "c50935eb",
   "metadata": {},
   "outputs": [],
   "source": [
    "val_predictions = model_RF.predict(X_val)"
   ]
  },
  {
   "cell_type": "markdown",
   "id": "1790064f",
   "metadata": {},
   "source": [
    "### Metrics"
   ]
  },
  {
   "cell_type": "code",
   "execution_count": 13,
   "id": "97353e19",
   "metadata": {},
   "outputs": [
    {
     "name": "stdout",
     "output_type": "stream",
     "text": [
      "\n",
      " Confusion Matrix [[337866      0      1      0]\n",
      " [     0 338173      1      0]\n",
      " [     0      0 338370      3]\n",
      " [     0      0      7 338086]]\n",
      "\n",
      " Accuracy 0.9999911275875097\n",
      "\n",
      " Precision 0.9999911276792585\n",
      "\n",
      " Recall 0.9999911275875097\n",
      "\n",
      " F1 Score 0.999991127603878\n"
     ]
    }
   ],
   "source": [
    "conf_matrix = confusion_matrix(y_val, val_predictions)\n",
    "accu = accuracy_score(y_val, val_predictions)\n",
    "_recall_score = recall_score(y_val, val_predictions, average='weighted')\n",
    "_precision_score = precision_score(y_val, val_predictions, average='weighted')\n",
    "_f1_score = f1_score(y_val, val_predictions, average='weighted')\n",
    "\n",
    "print(\"\\n Confusion Matrix\", conf_matrix)\n",
    "print(\"\\n Accuracy\", accu)\n",
    "print(\"\\n Precision\", _precision_score)\n",
    "print(\"\\n Recall\", _recall_score)\n",
    "print(\"\\n F1 Score\", _f1_score)"
   ]
  },
  {
   "cell_type": "code",
   "execution_count": 14,
   "id": "54526a0f",
   "metadata": {},
   "outputs": [
    {
     "name": "stdout",
     "output_type": "stream",
     "text": [
      "                precision    recall  f1-score   support\n",
      "\n",
      "     DDos RUDY       1.00      1.00      1.00    337867\n",
      "DDos Slowloris       1.00      1.00      1.00    338174\n",
      "   Normal Flow       1.00      1.00      1.00    338373\n",
      "      SYN-Scan       1.00      1.00      1.00    338093\n",
      "\n",
      "      accuracy                           1.00   1352507\n",
      "     macro avg       1.00      1.00      1.00   1352507\n",
      "  weighted avg       1.00      1.00      1.00   1352507\n",
      "\n"
     ]
    }
   ],
   "source": [
    "print(metrics.classification_report(y_val, val_predictions, target_names=target_names))"
   ]
  },
  {
   "cell_type": "code",
   "execution_count": 15,
   "id": "4372195c",
   "metadata": {},
   "outputs": [
    {
     "data": {
      "image/png": "[encoded data removed]",
      "text/plain": [
       "<Figure size 432x288 with 2 Axes>"
      ]
     },
     "metadata": {
      "needs_background": "light"
     },
     "output_type": "display_data"
    }
   ],
   "source": [
    "sns.heatmap(conf_matrix, annot=True, fmt=\".4g\");"
   ]
  },
  {
   "cell_type": "markdown",
   "id": "ee7be550",
   "metadata": {},
   "source": [
    "### Predict with test data"
   ]
  },
  {
   "cell_type": "code",
   "execution_count": 16,
   "id": "0969361a",
   "metadata": {},
   "outputs": [],
   "source": [
    "predictions = model_RF.predict(X_test)"
   ]
  },
  {
   "cell_type": "code",
   "execution_count": 17,
   "id": "c5e57786",
   "metadata": {},
   "outputs": [
    {
     "name": "stdout",
     "output_type": "stream",
     "text": [
      "\n",
      " Confusion Matrix\n",
      " [[687356      0      1      0]\n",
      " [     0 687476      2      0]\n",
      " [     0      2 686307      9]\n",
      " [     0      0     14 684831]]\n",
      "\n",
      " Accuracy 0.9999898033429012\n",
      "\n",
      " Precision 0.999989803373094\n",
      "\n",
      " Recall 0.9999898033429012\n",
      "\n",
      " F1 Score 0.9999898033497664\n"
     ]
    }
   ],
   "source": [
    "conf_matrix = confusion_matrix(y_test, predictions)\n",
    "accu = accuracy_score(y_test, predictions)\n",
    "_recall_score = recall_score(y_test, predictions, average='weighted')\n",
    "_precision_score = precision_score(y_test, predictions, average='weighted')\n",
    "_f1_score = f1_score(y_test, predictions, average='weighted')\n",
    "\n",
    "print(\"\\n Confusion Matrix\\n\", conf_matrix)\n",
    "print(\"\\n Accuracy\", accu)\n",
    "print(\"\\n Precision\", _precision_score)\n",
    "print(\"\\n Recall\", _recall_score)\n",
    "print(\"\\n F1 Score\", _f1_score)"
   ]
  },
  {
   "cell_type": "code",
   "execution_count": 18,
   "id": "2211364a",
   "metadata": {},
   "outputs": [
    {
     "data": {
      "image/png": "[encoded data removed]",
      "text/plain": [
       "<Figure size 432x288 with 2 Axes>"
      ]
     },
     "metadata": {
      "needs_background": "light"
     },
     "output_type": "display_data"
    }
   ],
   "source": [
    "sns.heatmap(conf_matrix, annot=True, fmt=\".4g\");"
   ]
  },
  {
   "cell_type": "markdown",
   "id": "d2fbc031",
   "metadata": {},
   "source": [
    "### K-fold validation"
   ]
  },
  {
   "cell_type": "code",
   "execution_count": 19,
   "id": "99a77176",
   "metadata": {},
   "outputs": [
    {
     "data": {
      "text/plain": [
       "5"
      ]
     },
     "execution_count": 19,
     "metadata": {},
     "output_type": "execute_result"
    }
   ],
   "source": [
    "# Validation of model after train with train data\n",
    "k_folds_model_train = model_selection.KFold(n_splits=5, shuffle=True, random_state=79)\n",
    "k_folds_model_train.get_n_splits(X)"
   ]
  },
  {
   "cell_type": "code",
   "execution_count": 20,
   "id": "fa8b840b",
   "metadata": {
    "scrolled": true
   },
   "outputs": [
    {
     "name": "stdout",
     "output_type": "stream",
     "text": [
      "Scores are:  [0.99999726 0.99999451 0.99999286 0.99999177 0.99999122]\n",
      "Mean is:  0.9999935220270759\n",
      "STD is: +- 2.179392494981703e-06\n"
     ]
    }
   ],
   "source": [
    "scores = model_selection.cross_val_score(model_RF, X, y, cv=k_folds_model_train)\n",
    "print(\"Scores are: \", scores)\n",
    "print(\"Mean is: \", np.mean(scores))\n",
    "print(\"STD is: +-\", np.std(scores))"
   ]
  },
  {
   "cell_type": "markdown",
   "id": "581aa89e",
   "metadata": {},
   "source": [
    "### ROC Curve"
   ]
  },
  {
   "cell_type": "code",
   "execution_count": 21,
   "id": "9467b634",
   "metadata": {},
   "outputs": [],
   "source": [
    "y_ = label_binarize(y_test, classes=[0, 1, 2, 3])\n",
    "pred = label_binarize(predictions, classes=[0,1,2,3])"
   ]
  },
  {
   "cell_type": "code",
   "execution_count": 22,
   "id": "c2b8278a",
   "metadata": {},
   "outputs": [
    {
     "data": {
      "image/png": "[encoded data removed]",
      "text/plain": [
       "<Figure size 432x288 with 1 Axes>"
      ]
     },
     "metadata": {
      "needs_background": "light"
     },
     "output_type": "display_data"
    }
   ],
   "source": [
    "# Compute ROC curve and ROC area for each class\n",
    "fpr = dict()\n",
    "tpr = dict()\n",
    "roc_auc = dict()\n",
    "n_classes=4\n",
    "for i in range(n_classes):\n",
    "    fpr[i], tpr[i], _ = roc_curve(y_[:, i], pred[:, i])\n",
    "    roc_auc[i] = auc(fpr[i], tpr[i])\n",
    "\n",
    "# Compute micro-average ROC curve and ROC area\n",
    "fpr[\"micro\"], tpr[\"micro\"], _ = roc_curve(y_.ravel(), pred.ravel())\n",
    "roc_auc[\"micro\"] = auc(fpr[\"micro\"], tpr[\"micro\"])\n",
    "\n",
    "plt.figure()\n",
    "lw = 2\n",
    "plt.plot(\n",
    "    fpr[2],\n",
    "    tpr[2],\n",
    "    color=\"darkorange\",\n",
    "    lw=lw,\n",
    "    label=\"ROC curve (area = %0.2f)\" % roc_auc[2],\n",
    ")\n",
    "plt.rcParams[\"figure.figsize\"] = (5,5)\n",
    "plt.plot([0, 1], [0, 1], color=\"navy\", lw=lw, linestyle=\"--\")\n",
    "plt.xlim([0.0, 1.0])\n",
    "plt.ylim([0.0, 1.05])\n",
    "plt.xlabel(\"False Positive Rate\")\n",
    "plt.ylabel(\"True Positive Rate\")\n",
    "plt.title(\"Curva ROC\")\n",
    "plt.legend(loc=\"lower right\")\n",
    "plt.show()"
   ]
  },
  {
   "cell_type": "code",
   "execution_count": 23,
   "id": "a53f12e8",
   "metadata": {},
   "outputs": [
    {
     "data": {
      "image/png": "[encoded data removed]",
      "text/plain": [
       "<Figure size 360x360 with 1 Axes>"
      ]
     },
     "metadata": {
      "needs_background": "light"
     },
     "output_type": "display_data"
    }
   ],
   "source": [
    "# First aggregate all false positive rates\n",
    "all_fpr = np.unique(np.concatenate([fpr[i] for i in range(n_classes)]))\n",
    "\n",
    "# Then interpolate all ROC curves at this points\n",
    "mean_tpr = np.zeros_like(all_fpr)\n",
    "for i in range(n_classes):\n",
    "    mean_tpr += np.interp(all_fpr, fpr[i], tpr[i])\n",
    "\n",
    "# Finally average it and compute AUC\n",
    "mean_tpr /= n_classes\n",
    "\n",
    "fpr[\"macro\"] = all_fpr\n",
    "tpr[\"macro\"] = mean_tpr\n",
    "roc_auc[\"macro\"] = auc(fpr[\"macro\"], tpr[\"macro\"])\n",
    "\n",
    "# Plot all ROC curves\n",
    "plt.figure()\n",
    "plt.plot(\n",
    "    fpr[\"micro\"],\n",
    "    tpr[\"micro\"],\n",
    "    label=\"micro-average ROC curve (area = {0:0.2f})\".format(roc_auc[\"micro\"]),\n",
    "    color=\"deeppink\",\n",
    "    linestyle=\":\",\n",
    "    linewidth=4,\n",
    ")\n",
    "\n",
    "plt.plot(\n",
    "    fpr[\"macro\"],\n",
    "    tpr[\"macro\"],\n",
    "    label=\"macro-average ROC curve (area = {0:0.2f})\".format(roc_auc[\"macro\"]),\n",
    "    color=\"navy\",\n",
    "    linestyle=\":\",\n",
    "    linewidth=4,\n",
    ")\n",
    "\n",
    "colors = cycle([\"aqua\", \"darkorange\", \"cornflowerblue\"])\n",
    "for i, color in zip(range(n_classes), colors):\n",
    "    plt.plot(\n",
    "        fpr[i],\n",
    "        tpr[i],\n",
    "        color=color,\n",
    "        lw=lw,\n",
    "        label=\"ROC curve of class {0} (area = {1:0.2f})\".format(i, roc_auc[i]),\n",
    "    )\n",
    "\n",
    "plt.plot([0, 1], [0, 1], \"k--\", lw=lw)\n",
    "plt.xlim([0.0, 1.0])\n",
    "plt.ylim([0.0, 1.05])\n",
    "plt.xlabel(\"False Positive Rate\")\n",
    "plt.ylabel(\"True Positive Rate\")\n",
    "plt.title(\"Curva ROC\")\n",
    "plt.legend(loc=\"lower right\")\n",
    "plt.show()"
   ]
  },
  {
   "cell_type": "markdown",
   "id": "69131095-5d30-4fe0-a70e-33fe58f6b33d",
   "metadata": {},
   "source": [
    "## Decision Tree Classifier"
   ]
  },
  {
   "cell_type": "code",
   "execution_count": 11,
   "id": "66ec1dcb-c50c-47fd-b600-9be588c1566b",
   "metadata": {},
   "outputs": [
    {
     "data": {
      "text/plain": [
       "DecisionTreeClassifier(max_depth=3, min_samples_leaf=5, random_state=42)"
      ]
     },
     "execution_count": 11,
     "metadata": {},
     "output_type": "execute_result"
    }
   ],
   "source": [
    "model_DT = DecisionTreeClassifier(criterion=\"gini\", random_state=42, max_depth=3, min_samples_leaf=5)\n",
    "model_DT.fit(X_train, y_train)"
   ]
  },
  {
   "cell_type": "markdown",
   "id": "34080c7e-f9f2-4494-bbdb-845e03509e65",
   "metadata": {},
   "source": [
    "### Predict with validation data"
   ]
  },
  {
   "cell_type": "code",
   "execution_count": 12,
   "id": "7e2553c4-e142-498b-a4df-d8c2c83cab9d",
   "metadata": {},
   "outputs": [],
   "source": [
    "val_predictions = model_DT.predict(X_val)"
   ]
  },
  {
   "cell_type": "markdown",
   "id": "840dd9ec-0d03-44c4-b667-575282767749",
   "metadata": {},
   "source": [
    "### Metrics"
   ]
  },
  {
   "cell_type": "code",
   "execution_count": 13,
   "id": "0c1777b8-e818-4af2-a25b-89da471185de",
   "metadata": {},
   "outputs": [
    {
     "name": "stdout",
     "output_type": "stream",
     "text": [
      "\n",
      " Confusion Matrix [[337856      0     11      0]\n",
      " [     0 338173      1      0]\n",
      " [ 45910   4445 287800    218]\n",
      " [     3      0    307 337783]]\n",
      "\n",
      " Accuracy 0.9623698805255722\n",
      "\n",
      " Precision 0.9664316237414119\n",
      "\n",
      " Recall 0.9623698805255722\n",
      "\n",
      " F1 Score 0.9619513237619192\n"
     ]
    }
   ],
   "source": [
    "conf_matrix = confusion_matrix(y_val, val_predictions)\n",
    "accu = accuracy_score(y_val, val_predictions)\n",
    "_recall_score = recall_score(y_val, val_predictions, average='weighted')\n",
    "_precision_score = precision_score(y_val, val_predictions, average='weighted')\n",
    "_f1_score = f1_score(y_val, val_predictions, average='weighted')\n",
    "\n",
    "print(\"\\n Confusion Matrix\", conf_matrix)\n",
    "print(\"\\n Accuracy\", accu)\n",
    "print(\"\\n Precision\", _precision_score)\n",
    "print(\"\\n Recall\", _recall_score)\n",
    "print(\"\\n F1 Score\", _f1_score)"
   ]
  },
  {
   "cell_type": "code",
   "execution_count": 14,
   "id": "7887759f-d3db-4f9e-b21c-84d445fc9337",
   "metadata": {},
   "outputs": [
    {
     "name": "stdout",
     "output_type": "stream",
     "text": [
      "                precision    recall  f1-score   support\n",
      "\n",
      "     DDos RUDY       0.88      1.00      0.94    337867\n",
      "DDos Slowloris       0.99      1.00      0.99    338174\n",
      "   Normal Flow       1.00      0.85      0.92    338373\n",
      "      SYN-Scan       1.00      1.00      1.00    338093\n",
      "\n",
      "      accuracy                           0.96   1352507\n",
      "     macro avg       0.97      0.96      0.96   1352507\n",
      "  weighted avg       0.97      0.96      0.96   1352507\n",
      "\n"
     ]
    }
   ],
   "source": [
    "print(metrics.classification_report(y_val, val_predictions, target_names=target_names))"
   ]
  },
  {
   "cell_type": "code",
   "execution_count": 15,
   "id": "1e1f258b-82c3-4ca5-b2f3-68adeae5c622",
   "metadata": {},
   "outputs": [
    {
     "data": {
      "image/png": "[encoded data removed]",
      "text/plain": [
       "<Figure size 432x288 with 2 Axes>"
      ]
     },
     "metadata": {
      "needs_background": "light"
     },
     "output_type": "display_data"
    }
   ],
   "source": [
    "sns.heatmap(conf_matrix, annot=True, fmt=\".4g\");"
   ]
  },
  {
   "cell_type": "markdown",
   "id": "b0cb75e2-a022-43a0-8c2f-345d54f14ad1",
   "metadata": {},
   "source": [
    "### Predict with test data"
   ]
  },
  {
   "cell_type": "code",
   "execution_count": 16,
   "id": "f9167c18-24b6-4fbb-a5d9-55a6c905b2d7",
   "metadata": {},
   "outputs": [],
   "source": [
    "predictions = model_DT.predict(X_test)"
   ]
  },
  {
   "cell_type": "code",
   "execution_count": 17,
   "id": "483d4f5f-7ab0-4189-b05e-16432c19c62c",
   "metadata": {},
   "outputs": [
    {
     "name": "stdout",
     "output_type": "stream",
     "text": [
      "\n",
      " Confusion Matrix\n",
      " [[687327      0     30      0]\n",
      " [     0 687477      1      0]\n",
      " [ 93592   9067 583254    405]\n",
      " [     8      0    605 684232]]\n",
      "\n",
      " Accuracy 0.9622330387713319\n",
      "\n",
      " Precision 0.9663194919336353\n",
      "\n",
      " Recall 0.9622330387713319\n",
      "\n",
      " F1 Score 0.961807657354616\n"
     ]
    }
   ],
   "source": [
    "conf_matrix = confusion_matrix(y_test, predictions)\n",
    "accu = accuracy_score(y_test, predictions)\n",
    "_recall_score = recall_score(y_test, predictions, average='weighted')\n",
    "_precision_score = precision_score(y_test, predictions, average='weighted')\n",
    "_f1_score = f1_score(y_test, predictions, average='weighted')\n",
    "\n",
    "print(\"\\n Confusion Matrix\\n\", conf_matrix)\n",
    "print(\"\\n Accuracy\", accu)\n",
    "print(\"\\n Precision\", _precision_score)\n",
    "print(\"\\n Recall\", _recall_score)\n",
    "print(\"\\n F1 Score\", _f1_score)"
   ]
  },
  {
   "cell_type": "code",
   "execution_count": 18,
   "id": "2288c3a1-a90d-4e6b-8f63-ad99ddb1f806",
   "metadata": {},
   "outputs": [
    {
     "data": {
      "image/png": "[encoded data removed]",
      "text/plain": [
       "<Figure size 432x288 with 2 Axes>"
      ]
     },
     "metadata": {
      "needs_background": "light"
     },
     "output_type": "display_data"
    }
   ],
   "source": [
    "sns.heatmap(conf_matrix, annot=True, fmt=\".4g\");"
   ]
  },
  {
   "cell_type": "markdown",
   "id": "a28d4b10-09a5-4410-a120-6e5dbe36a943",
   "metadata": {},
   "source": [
    "### K-fold validation"
   ]
  },
  {
   "cell_type": "code",
   "execution_count": 19,
   "id": "963f4e22-8fbb-4e50-a7dd-8c3b6ddcea28",
   "metadata": {},
   "outputs": [
    {
     "data": {
      "text/plain": [
       "5"
      ]
     },
     "execution_count": 19,
     "metadata": {},
     "output_type": "execute_result"
    }
   ],
   "source": [
    "# Validation of model after train with train data\n",
    "k_folds_model_train = model_selection.KFold(n_splits=5, shuffle=True, random_state=79)\n",
    "k_folds_model_train.get_n_splits(X)"
   ]
  },
  {
   "cell_type": "code",
   "execution_count": 20,
   "id": "53f1eec7-0117-451e-8098-e6344a76015f",
   "metadata": {},
   "outputs": [
    {
     "name": "stdout",
     "output_type": "stream",
     "text": [
      "Scores are:  [0.96240855 0.96217688 0.96240636 0.96242336 0.96228611]\n",
      "Mean is:  0.9623402521039095\n",
      "STD is: +- 9.545863711532251e-05\n"
     ]
    }
   ],
   "source": [
    "scores = model_selection.cross_val_score(model_DT, X, y, cv=k_folds_model_train)\n",
    "print(\"Scores are: \", scores)\n",
    "print(\"Mean is: \", np.mean(scores))\n",
    "print(\"STD is: +-\", np.std(scores))"
   ]
  },
  {
   "cell_type": "markdown",
   "id": "447f45da-b66a-4e55-b8fc-0a98fca54566",
   "metadata": {},
   "source": [
    "### ROC Curve"
   ]
  },
  {
   "cell_type": "code",
   "execution_count": 21,
   "id": "8d9dd2b0-eacd-4305-b364-98377a594f97",
   "metadata": {},
   "outputs": [],
   "source": [
    "y_ = label_binarize(y_test, classes=[0, 1, 2, 3])\n",
    "pred = label_binarize(predictions, classes=[0,1,2,3])"
   ]
  },
  {
   "cell_type": "code",
   "execution_count": 22,
   "id": "da561050-028b-40e2-ba49-227e0021cc89",
   "metadata": {},
   "outputs": [
    {
     "data": {
      "image/png": "[encoded data removed]",
      "text/plain": [
       "<Figure size 432x288 with 1 Axes>"
      ]
     },
     "metadata": {
      "needs_background": "light"
     },
     "output_type": "display_data"
    }
   ],
   "source": [
    "# Compute ROC curve and ROC area for each class\n",
    "fpr = dict()\n",
    "tpr = dict()\n",
    "roc_auc = dict()\n",
    "n_classes=4\n",
    "for i in range(n_classes):\n",
    "    fpr[i], tpr[i], _ = roc_curve(y_[:, i], pred[:, i])\n",
    "    roc_auc[i] = auc(fpr[i], tpr[i])\n",
    "\n",
    "# Compute micro-average ROC curve and ROC area\n",
    "fpr[\"micro\"], tpr[\"micro\"], _ = roc_curve(y_.ravel(), pred.ravel())\n",
    "roc_auc[\"micro\"] = auc(fpr[\"micro\"], tpr[\"micro\"])\n",
    "\n",
    "plt.figure()\n",
    "lw = 2\n",
    "plt.plot(\n",
    "    fpr[2],\n",
    "    tpr[2],\n",
    "    color=\"darkorange\",\n",
    "    lw=lw,\n",
    "    label=\"ROC curve (area = %0.2f)\" % roc_auc[2],\n",
    ")\n",
    "plt.rcParams[\"figure.figsize\"] = (5,5)\n",
    "plt.plot([0, 1], [0, 1], color=\"navy\", lw=lw, linestyle=\"--\")\n",
    "plt.xlim([0.0, 1.0])\n",
    "plt.ylim([0.0, 1.05])\n",
    "plt.xlabel(\"False Positive Rate\")\n",
    "plt.ylabel(\"True Positive Rate\")\n",
    "plt.title(\"Curva ROC\")\n",
    "plt.legend(loc=\"lower right\")\n",
    "plt.show()"
   ]
  },
  {
   "cell_type": "code",
   "execution_count": 23,
   "id": "d878b5f4-c889-4cc5-9c9f-f5714679daac",
   "metadata": {},
   "outputs": [
    {
     "data": {
      "image/png": "[encoded data removed]",
      "text/plain": [
       "<Figure size 360x360 with 1 Axes>"
      ]
     },
     "metadata": {
      "needs_background": "light"
     },
     "output_type": "display_data"
    }
   ],
   "source": [
    "# First aggregate all false positive rates\n",
    "all_fpr = np.unique(np.concatenate([fpr[i] for i in range(n_classes)]))\n",
    "\n",
    "# Then interpolate all ROC curves at this points\n",
    "mean_tpr = np.zeros_like(all_fpr)\n",
    "for i in range(n_classes):\n",
    "    mean_tpr += np.interp(all_fpr, fpr[i], tpr[i])\n",
    "\n",
    "# Finally average it and compute AUC\n",
    "mean_tpr /= n_classes\n",
    "\n",
    "fpr[\"macro\"] = all_fpr\n",
    "tpr[\"macro\"] = mean_tpr\n",
    "roc_auc[\"macro\"] = auc(fpr[\"macro\"], tpr[\"macro\"])\n",
    "\n",
    "# Plot all ROC curves\n",
    "plt.figure()\n",
    "plt.plot(\n",
    "    fpr[\"micro\"],\n",
    "    tpr[\"micro\"],\n",
    "    label=\"micro-average ROC curve (area = {0:0.2f})\".format(roc_auc[\"micro\"]),\n",
    "    color=\"deeppink\",\n",
    "    linestyle=\":\",\n",
    "    linewidth=4,\n",
    ")\n",
    "\n",
    "plt.plot(\n",
    "    fpr[\"macro\"],\n",
    "    tpr[\"macro\"],\n",
    "    label=\"macro-average ROC curve (area = {0:0.2f})\".format(roc_auc[\"macro\"]),\n",
    "    color=\"navy\",\n",
    "    linestyle=\":\",\n",
    "    linewidth=4,\n",
    ")\n",
    "\n",
    "colors = cycle([\"aqua\", \"darkorange\", \"cornflowerblue\"])\n",
    "for i, color in zip(range(n_classes), colors):\n",
    "    plt.plot(\n",
    "        fpr[i],\n",
    "        tpr[i],\n",
    "        color=color,\n",
    "        lw=lw,\n",
    "        label=\"ROC curve of class {0} (area = {1:0.2f})\".format(i, roc_auc[i]),\n",
    "    )\n",
    "\n",
    "plt.plot([0, 1], [0, 1], \"k--\", lw=lw)\n",
    "plt.xlim([0.0, 1.0])\n",
    "plt.ylim([0.0, 1.05])\n",
    "plt.xlabel(\"False Positive Rate\")\n",
    "plt.ylabel(\"True Positive Rate\")\n",
    "plt.title(\"Curva ROC\")\n",
    "plt.legend(loc=\"lower right\")\n",
    "plt.show()"
   ]
  }
 ],
 "metadata": {
  "kernelspec": {
   "display_name": "Python 3",
   "language": "python",
   "name": "python3"
  },
  "language_info": {
   "codemirror_mode": {
    "name": "ipython",
    "version": 3
   },
   "file_extension": ".py",
   "mimetype": "text/x-python",
   "name": "python",
   "nbconvert_exporter": "python",
   "pygments_lexer": "ipython3",
   "version": "3.8.8"
  }
 },
 "nbformat": 4,
 "nbformat_minor": 5
}
