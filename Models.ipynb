{
 "cells": [
  {
   "cell_type": "markdown",
   "id": "887ae55a",
   "metadata": {},
   "source": [
    "# Model Implementation\n",
    "\n",
    "**Security DS - Proyecto 1**\n",
    "\n",
    "Roberto Figueroa - 18306\n",
    "\n",
    "Gustavo Méndez - 18500"
   ]
  },
  {
   "cell_type": "code",
   "execution_count": 25,
   "id": "b88ba99c",
   "metadata": {},
   "outputs": [],
   "source": [
    "import pandas as pd\n",
    "import numpy as np\n",
    "import matplotlib.pyplot as plt\n",
    "import seaborn as sns\n",
    "from utils import reduce_memory_usage\n",
    "from sklearn.utils import resample\n",
    "from sklearn.preprocessing import StandardScaler\n",
    "from sklearn.ensemble import RandomForestClassifier\n",
    "\n",
    "\n",
    "from sklearn import metrics, model_selection, tree\n",
    "from sklearn.model_selection import train_test_split\n",
    "from sklearn.ensemble import RandomForestClassifier\n",
    "from sklearn.metrics import confusion_matrix, precision_score, recall_score, f1_score, plot_confusion_matrix, accuracy_score\n",
    "\n",
    "%matplotlib inline\n",
    "pd.set_option(\"display.max_columns\", None)"
   ]
  },
  {
   "cell_type": "code",
   "execution_count": 26,
   "id": "22f1f4e9",
   "metadata": {},
   "outputs": [],
   "source": [
    "# Load by chunks, due to dataset size (~4 GB if unzipped)\n",
    "chunk_samples = []\n",
    "CHUNK_SIZE = 10 ** 6\n",
    "\n",
    "for chunk in pd.read_csv('./datasets/preprocessed_dataset.csv', index_col=[0], chunksize=CHUNK_SIZE):\n",
    "    reduced_chunk = reduce_memory_usage(chunk, verbose=False)\n",
    "    chunk_samples.append(reduced_chunk)\n",
    "    \n",
    "df = pd.concat(chunk_samples, ignore_index=True)\n",
    "del chunk_samples"
   ]
  },
  {
   "cell_type": "code",
   "execution_count": 27,
   "id": "9a74192e",
   "metadata": {},
   "outputs": [
    {
     "data": {
      "text/html": [
       "<div>\n",
       "<style scoped>\n",
       "    .dataframe tbody tr th:only-of-type {\n",
       "        vertical-align: middle;\n",
       "    }\n",
       "\n",
       "    .dataframe tbody tr th {\n",
       "        vertical-align: top;\n",
       "    }\n",
       "\n",
       "    .dataframe thead th {\n",
       "        text-align: right;\n",
       "    }\n",
       "</style>\n",
       "<table border=\"1\" class=\"dataframe\">\n",
       "  <thead>\n",
       "    <tr style=\"text-align: right;\">\n",
       "      <th></th>\n",
       "      <th>FIRST_SWITCHED</th>\n",
       "      <th>FLOW_DURATION_MICROSECONDS</th>\n",
       "      <th>L4_DST_PORT</th>\n",
       "      <th>L4_SRC_PORT</th>\n",
       "      <th>LAST_SWITCHED</th>\n",
       "      <th>TCP_WIN_MAX_IN</th>\n",
       "      <th>TCP_WIN_MAX_OUT</th>\n",
       "      <th>TCP_WIN_MIN_IN</th>\n",
       "      <th>TCP_WIN_MIN_OUT</th>\n",
       "      <th>TCP_WIN_MSS_IN</th>\n",
       "      <th>TCP_WIN_SCALE_OUT</th>\n",
       "      <th>TCP_WIN_SCALE_IN</th>\n",
       "      <th>TOTAL_FLOWS_EXP</th>\n",
       "      <th>tcp</th>\n",
       "      <th>udp</th>\n",
       "      <th>SRC_PKT_PRECEDENCE</th>\n",
       "      <th>DST_PKT_PRECEDENCE</th>\n",
       "      <th>URG</th>\n",
       "      <th>ACK</th>\n",
       "      <th>PSH</th>\n",
       "      <th>RST</th>\n",
       "      <th>SYN</th>\n",
       "      <th>FIN</th>\n",
       "      <th>LABEL</th>\n",
       "    </tr>\n",
       "  </thead>\n",
       "  <tbody>\n",
       "    <tr>\n",
       "      <th>0</th>\n",
       "      <td>1618194298</td>\n",
       "      <td>-0.821289</td>\n",
       "      <td>-0.116516</td>\n",
       "      <td>0.700684</td>\n",
       "      <td>1618194298</td>\n",
       "      <td>-0.800293</td>\n",
       "      <td>-0.744141</td>\n",
       "      <td>-0.804688</td>\n",
       "      <td>-0.743652</td>\n",
       "      <td>-1.385742</td>\n",
       "      <td>-0.768555</td>\n",
       "      <td>-0.816895</td>\n",
       "      <td>0.512207</td>\n",
       "      <td>1.0</td>\n",
       "      <td>0.0</td>\n",
       "      <td>5.0</td>\n",
       "      <td>5.0</td>\n",
       "      <td>0.0</td>\n",
       "      <td>0.0</td>\n",
       "      <td>0.0</td>\n",
       "      <td>1.0</td>\n",
       "      <td>1.0</td>\n",
       "      <td>0.0</td>\n",
       "      <td>0.447266</td>\n",
       "    </tr>\n",
       "    <tr>\n",
       "      <th>1</th>\n",
       "      <td>1618185270</td>\n",
       "      <td>-0.822754</td>\n",
       "      <td>-0.014404</td>\n",
       "      <td>0.324707</td>\n",
       "      <td>1618185270</td>\n",
       "      <td>-0.838867</td>\n",
       "      <td>-0.744141</td>\n",
       "      <td>-0.837402</td>\n",
       "      <td>-0.743652</td>\n",
       "      <td>-1.385742</td>\n",
       "      <td>-0.768555</td>\n",
       "      <td>-0.816895</td>\n",
       "      <td>0.503906</td>\n",
       "      <td>0.0</td>\n",
       "      <td>1.0</td>\n",
       "      <td>0.0</td>\n",
       "      <td>0.0</td>\n",
       "      <td>0.0</td>\n",
       "      <td>1.0</td>\n",
       "      <td>0.0</td>\n",
       "      <td>0.0</td>\n",
       "      <td>0.0</td>\n",
       "      <td>1.0</td>\n",
       "      <td>0.447266</td>\n",
       "    </tr>\n",
       "    <tr>\n",
       "      <th>2</th>\n",
       "      <td>1618225083</td>\n",
       "      <td>-0.822754</td>\n",
       "      <td>-0.570801</td>\n",
       "      <td>-1.906250</td>\n",
       "      <td>1618225083</td>\n",
       "      <td>-0.838867</td>\n",
       "      <td>-0.744141</td>\n",
       "      <td>-0.837402</td>\n",
       "      <td>-0.743652</td>\n",
       "      <td>-1.385742</td>\n",
       "      <td>-0.768555</td>\n",
       "      <td>-0.816895</td>\n",
       "      <td>0.582031</td>\n",
       "      <td>0.0</td>\n",
       "      <td>1.0</td>\n",
       "      <td>0.0</td>\n",
       "      <td>0.0</td>\n",
       "      <td>0.0</td>\n",
       "      <td>1.0</td>\n",
       "      <td>0.0</td>\n",
       "      <td>0.0</td>\n",
       "      <td>0.0</td>\n",
       "      <td>1.0</td>\n",
       "      <td>0.447266</td>\n",
       "    </tr>\n",
       "    <tr>\n",
       "      <th>3</th>\n",
       "      <td>1618219151</td>\n",
       "      <td>-0.817871</td>\n",
       "      <td>-0.309570</td>\n",
       "      <td>0.797363</td>\n",
       "      <td>1618219152</td>\n",
       "      <td>-0.800293</td>\n",
       "      <td>-0.744141</td>\n",
       "      <td>-0.804688</td>\n",
       "      <td>-0.743652</td>\n",
       "      <td>-1.385742</td>\n",
       "      <td>-0.768555</td>\n",
       "      <td>-0.816895</td>\n",
       "      <td>0.559082</td>\n",
       "      <td>1.0</td>\n",
       "      <td>0.0</td>\n",
       "      <td>1.0</td>\n",
       "      <td>0.0</td>\n",
       "      <td>0.0</td>\n",
       "      <td>0.0</td>\n",
       "      <td>0.0</td>\n",
       "      <td>1.0</td>\n",
       "      <td>1.0</td>\n",
       "      <td>0.0</td>\n",
       "      <td>0.447266</td>\n",
       "    </tr>\n",
       "    <tr>\n",
       "      <th>4</th>\n",
       "      <td>1618197175</td>\n",
       "      <td>-0.811523</td>\n",
       "      <td>-0.576660</td>\n",
       "      <td>-2.744141</td>\n",
       "      <td>1618197176</td>\n",
       "      <td>-0.838867</td>\n",
       "      <td>-0.744141</td>\n",
       "      <td>-0.837402</td>\n",
       "      <td>-0.743652</td>\n",
       "      <td>-1.385742</td>\n",
       "      <td>-0.768555</td>\n",
       "      <td>-0.816895</td>\n",
       "      <td>0.515137</td>\n",
       "      <td>0.0</td>\n",
       "      <td>0.0</td>\n",
       "      <td>6.0</td>\n",
       "      <td>0.0</td>\n",
       "      <td>0.0</td>\n",
       "      <td>0.0</td>\n",
       "      <td>0.0</td>\n",
       "      <td>0.0</td>\n",
       "      <td>0.0</td>\n",
       "      <td>1.0</td>\n",
       "      <td>0.447266</td>\n",
       "    </tr>\n",
       "  </tbody>\n",
       "</table>\n",
       "</div>"
      ],
      "text/plain": [
       "   FIRST_SWITCHED  FLOW_DURATION_MICROSECONDS  L4_DST_PORT  L4_SRC_PORT  \\\n",
       "0      1618194298                   -0.821289    -0.116516     0.700684   \n",
       "1      1618185270                   -0.822754    -0.014404     0.324707   \n",
       "2      1618225083                   -0.822754    -0.570801    -1.906250   \n",
       "3      1618219151                   -0.817871    -0.309570     0.797363   \n",
       "4      1618197175                   -0.811523    -0.576660    -2.744141   \n",
       "\n",
       "   LAST_SWITCHED  TCP_WIN_MAX_IN  TCP_WIN_MAX_OUT  TCP_WIN_MIN_IN  \\\n",
       "0     1618194298       -0.800293        -0.744141       -0.804688   \n",
       "1     1618185270       -0.838867        -0.744141       -0.837402   \n",
       "2     1618225083       -0.838867        -0.744141       -0.837402   \n",
       "3     1618219152       -0.800293        -0.744141       -0.804688   \n",
       "4     1618197176       -0.838867        -0.744141       -0.837402   \n",
       "\n",
       "   TCP_WIN_MIN_OUT  TCP_WIN_MSS_IN  TCP_WIN_SCALE_OUT  TCP_WIN_SCALE_IN  \\\n",
       "0        -0.743652       -1.385742          -0.768555         -0.816895   \n",
       "1        -0.743652       -1.385742          -0.768555         -0.816895   \n",
       "2        -0.743652       -1.385742          -0.768555         -0.816895   \n",
       "3        -0.743652       -1.385742          -0.768555         -0.816895   \n",
       "4        -0.743652       -1.385742          -0.768555         -0.816895   \n",
       "\n",
       "   TOTAL_FLOWS_EXP  tcp  udp  SRC_PKT_PRECEDENCE  DST_PKT_PRECEDENCE  URG  \\\n",
       "0         0.512207  1.0  0.0                 5.0                 5.0  0.0   \n",
       "1         0.503906  0.0  1.0                 0.0                 0.0  0.0   \n",
       "2         0.582031  0.0  1.0                 0.0                 0.0  0.0   \n",
       "3         0.559082  1.0  0.0                 1.0                 0.0  0.0   \n",
       "4         0.515137  0.0  0.0                 6.0                 0.0  0.0   \n",
       "\n",
       "   ACK  PSH  RST  SYN  FIN     LABEL  \n",
       "0  0.0  0.0  1.0  1.0  0.0  0.447266  \n",
       "1  1.0  0.0  0.0  0.0  1.0  0.447266  \n",
       "2  1.0  0.0  0.0  0.0  1.0  0.447266  \n",
       "3  0.0  0.0  1.0  1.0  0.0  0.447266  \n",
       "4  0.0  0.0  0.0  0.0  1.0  0.447266  "
      ]
     },
     "execution_count": 27,
     "metadata": {},
     "output_type": "execute_result"
    }
   ],
   "source": [
    "df.head()"
   ]
  },
  {
   "cell_type": "markdown",
   "id": "4c02e4f2",
   "metadata": {},
   "source": [
    "### Split data"
   ]
  },
  {
   "cell_type": "code",
   "execution_count": 28,
   "id": "ba7d2dbc",
   "metadata": {},
   "outputs": [],
   "source": [
    "y = df['LABEL']\n",
    "X = df.drop('LABEL', axis=1, inplace=False)"
   ]
  },
  {
   "cell_type": "code",
   "execution_count": 29,
   "id": "7b53b43c",
   "metadata": {},
   "outputs": [],
   "source": [
    "X_train, X_test_total, y_train, y_test_total = train_test_split(X, y, train_size=0.55, random_state=42)"
   ]
  },
  {
   "cell_type": "code",
   "execution_count": 30,
   "id": "45cc9106",
   "metadata": {},
   "outputs": [],
   "source": [
    "X_test, X_val, y_test, y_val = train_test_split(X_test_total, y_test_total, test_size=0.33, random_state=97)"
   ]
  },
  {
   "cell_type": "code",
   "execution_count": 32,
   "id": "56f056ce",
   "metadata": {},
   "outputs": [
    {
     "name": "stdout",
     "output_type": "stream",
     "text": [
      "Total observaciones:  733922\n",
      "Observaciones entrenamiento:  403657\n",
      "Observaciones de validacion:  108988\n",
      "Observaciones de pruebas:  221277\n"
     ]
    }
   ],
   "source": [
    "print(\"Total observaciones: \", len(X))\n",
    "print(\"Observaciones entrenamiento: \", len(X_train))\n",
    "print(\"Observaciones de validacion: \", len(X_val))\n",
    "print(\"Observaciones de pruebas: \", len(X_test))"
   ]
  },
  {
   "cell_type": "markdown",
   "id": "769b5a40",
   "metadata": {},
   "source": [
    "### Create model"
   ]
  },
  {
   "cell_type": "code",
   "execution_count": 34,
   "id": "e38f9d2a",
   "metadata": {},
   "outputs": [
    {
     "ename": "ValueError",
     "evalue": "Unknown label type: 'continuous'",
     "output_type": "error",
     "traceback": [
      "\u001b[0;31m---------------------------------------------------------------------------\u001b[0m",
      "\u001b[0;31mValueError\u001b[0m                                Traceback (most recent call last)",
      "Input \u001b[0;32mIn [34]\u001b[0m, in \u001b[0;36m<module>\u001b[0;34m\u001b[0m\n\u001b[1;32m      1\u001b[0m model_RF \u001b[38;5;241m=\u001b[39m RandomForestClassifier(n_estimators \u001b[38;5;241m=\u001b[39m \u001b[38;5;241m100\u001b[39m, random_state \u001b[38;5;241m=\u001b[39m \u001b[38;5;241m42\u001b[39m)\n\u001b[0;32m----> 2\u001b[0m \u001b[43mmodel_RF\u001b[49m\u001b[38;5;241;43m.\u001b[39;49m\u001b[43mfit\u001b[49m\u001b[43m(\u001b[49m\u001b[43mX_train\u001b[49m\u001b[43m,\u001b[49m\u001b[43m \u001b[49m\u001b[43my_train\u001b[49m\u001b[43m)\u001b[49m\n",
      "File \u001b[0;32m~/Desktop/UVG2022/SECDATA/sds-project-1/venv/lib/python3.8/site-packages/sklearn/ensemble/_forest.py:367\u001b[0m, in \u001b[0;36mBaseForest.fit\u001b[0;34m(self, X, y, sample_weight)\u001b[0m\n\u001b[1;32m    360\u001b[0m         \u001b[38;5;28;01mraise\u001b[39;00m \u001b[38;5;167;01mValueError\u001b[39;00m(\n\u001b[1;32m    361\u001b[0m             \u001b[38;5;124m\"\u001b[39m\u001b[38;5;124mSum of y is not strictly positive which \u001b[39m\u001b[38;5;124m\"\u001b[39m\n\u001b[1;32m    362\u001b[0m             \u001b[38;5;124m\"\u001b[39m\u001b[38;5;124mis necessary for Poisson regression.\u001b[39m\u001b[38;5;124m\"\u001b[39m\n\u001b[1;32m    363\u001b[0m         )\n\u001b[1;32m    365\u001b[0m \u001b[38;5;28mself\u001b[39m\u001b[38;5;241m.\u001b[39mn_outputs_ \u001b[38;5;241m=\u001b[39m y\u001b[38;5;241m.\u001b[39mshape[\u001b[38;5;241m1\u001b[39m]\n\u001b[0;32m--> 367\u001b[0m y, expanded_class_weight \u001b[38;5;241m=\u001b[39m \u001b[38;5;28;43mself\u001b[39;49m\u001b[38;5;241;43m.\u001b[39;49m\u001b[43m_validate_y_class_weight\u001b[49m\u001b[43m(\u001b[49m\u001b[43my\u001b[49m\u001b[43m)\u001b[49m\n\u001b[1;32m    369\u001b[0m \u001b[38;5;28;01mif\u001b[39;00m \u001b[38;5;28mgetattr\u001b[39m(y, \u001b[38;5;124m\"\u001b[39m\u001b[38;5;124mdtype\u001b[39m\u001b[38;5;124m\"\u001b[39m, \u001b[38;5;28;01mNone\u001b[39;00m) \u001b[38;5;241m!=\u001b[39m DOUBLE \u001b[38;5;129;01mor\u001b[39;00m \u001b[38;5;129;01mnot\u001b[39;00m y\u001b[38;5;241m.\u001b[39mflags\u001b[38;5;241m.\u001b[39mcontiguous:\n\u001b[1;32m    370\u001b[0m     y \u001b[38;5;241m=\u001b[39m np\u001b[38;5;241m.\u001b[39mascontiguousarray(y, dtype\u001b[38;5;241m=\u001b[39mDOUBLE)\n",
      "File \u001b[0;32m~/Desktop/UVG2022/SECDATA/sds-project-1/venv/lib/python3.8/site-packages/sklearn/ensemble/_forest.py:734\u001b[0m, in \u001b[0;36mForestClassifier._validate_y_class_weight\u001b[0;34m(self, y)\u001b[0m\n\u001b[1;32m    733\u001b[0m \u001b[38;5;28;01mdef\u001b[39;00m \u001b[38;5;21m_validate_y_class_weight\u001b[39m(\u001b[38;5;28mself\u001b[39m, y):\n\u001b[0;32m--> 734\u001b[0m     \u001b[43mcheck_classification_targets\u001b[49m\u001b[43m(\u001b[49m\u001b[43my\u001b[49m\u001b[43m)\u001b[49m\n\u001b[1;32m    736\u001b[0m     y \u001b[38;5;241m=\u001b[39m np\u001b[38;5;241m.\u001b[39mcopy(y)\n\u001b[1;32m    737\u001b[0m     expanded_class_weight \u001b[38;5;241m=\u001b[39m \u001b[38;5;28;01mNone\u001b[39;00m\n",
      "File \u001b[0;32m~/Desktop/UVG2022/SECDATA/sds-project-1/venv/lib/python3.8/site-packages/sklearn/utils/multiclass.py:197\u001b[0m, in \u001b[0;36mcheck_classification_targets\u001b[0;34m(y)\u001b[0m\n\u001b[1;32m    189\u001b[0m y_type \u001b[38;5;241m=\u001b[39m type_of_target(y)\n\u001b[1;32m    190\u001b[0m \u001b[38;5;28;01mif\u001b[39;00m y_type \u001b[38;5;129;01mnot\u001b[39;00m \u001b[38;5;129;01min\u001b[39;00m [\n\u001b[1;32m    191\u001b[0m     \u001b[38;5;124m\"\u001b[39m\u001b[38;5;124mbinary\u001b[39m\u001b[38;5;124m\"\u001b[39m,\n\u001b[1;32m    192\u001b[0m     \u001b[38;5;124m\"\u001b[39m\u001b[38;5;124mmulticlass\u001b[39m\u001b[38;5;124m\"\u001b[39m,\n\u001b[0;32m   (...)\u001b[0m\n\u001b[1;32m    195\u001b[0m     \u001b[38;5;124m\"\u001b[39m\u001b[38;5;124mmultilabel-sequences\u001b[39m\u001b[38;5;124m\"\u001b[39m,\n\u001b[1;32m    196\u001b[0m ]:\n\u001b[0;32m--> 197\u001b[0m     \u001b[38;5;28;01mraise\u001b[39;00m \u001b[38;5;167;01mValueError\u001b[39;00m(\u001b[38;5;124m\"\u001b[39m\u001b[38;5;124mUnknown label type: \u001b[39m\u001b[38;5;132;01m%r\u001b[39;00m\u001b[38;5;124m\"\u001b[39m \u001b[38;5;241m%\u001b[39m y_type)\n",
      "\u001b[0;31mValueError\u001b[0m: Unknown label type: 'continuous'"
     ]
    }
   ],
   "source": [
    "model_RF = RandomForestClassifier(n_estimators = 100, random_state = 42)\n",
    "model_RF.fit(X_train, y_train)"
   ]
  },
  {
   "cell_type": "markdown",
   "id": "59dbc2cd",
   "metadata": {},
   "source": [
    "#### Train with validation data"
   ]
  },
  {
   "cell_type": "code",
   "execution_count": null,
   "id": "84b815a8",
   "metadata": {},
   "outputs": [],
   "source": [
    "val_predictions = model.predict(X_val)"
   ]
  },
  {
   "cell_type": "code",
   "execution_count": null,
   "id": "de6964cf",
   "metadata": {},
   "outputs": [],
   "source": [
    "conf_matrix = confusion_matrix(y_val, val_predictions)\n",
    "accu = accuracy_score(y_val, val_predictions)\n",
    "_recall_score = recall_score(y_val, val_predictions)\n",
    "_precision_score = precision_score(y_val, val_predictions)\n",
    "_f1_score = f1_score(y_val, val_predictions)\n",
    "\n",
    "print(\"\\n Confusion Matrix\", conf_matrix)\n",
    "print(\"\\n Accuracy\", accu)\n",
    "print(\"\\n Precision\", _precision_score)\n",
    "print(\"\\n Recall\", _recall_score)\n",
    "print(\"\\n F1 Score\", _f1_score)"
   ]
  },
  {
   "cell_type": "code",
   "execution_count": null,
   "id": "49de24f3",
   "metadata": {},
   "outputs": [],
   "source": [
    "target_names = [0, 1, 2, 3]\n",
    "print(metrics.classification_report(y_val, val_predictions, target_names=target_names))"
   ]
  },
  {
   "cell_type": "code",
   "execution_count": null,
   "id": "2e5bbdf8",
   "metadata": {},
   "outputs": [],
   "source": [
    "sns.heatmap(conf_matrix, annot=True, fmt=\".4g\");"
   ]
  },
  {
   "cell_type": "markdown",
   "id": "50dc1d02",
   "metadata": {},
   "source": [
    "### Train model"
   ]
  },
  {
   "cell_type": "markdown",
   "id": "99b52ad1",
   "metadata": {},
   "source": [
    "### Metrics"
   ]
  },
  {
   "cell_type": "markdown",
   "id": "1b6ebfa1",
   "metadata": {},
   "source": [
    "### K-fold validation"
   ]
  },
  {
   "cell_type": "code",
   "execution_count": null,
   "id": "387a35fa",
   "metadata": {},
   "outputs": [],
   "source": []
  }
 ],
 "metadata": {
  "kernelspec": {
   "display_name": "Python 3 (ipykernel)",
   "language": "python",
   "name": "python3"
  },
  "language_info": {
   "codemirror_mode": {
    "name": "ipython",
    "version": 3
   },
   "file_extension": ".py",
   "mimetype": "text/x-python",
   "name": "python",
   "nbconvert_exporter": "python",
   "pygments_lexer": "ipython3",
   "version": "3.8.10"
  }
 },
 "nbformat": 4,
 "nbformat_minor": 5
}
